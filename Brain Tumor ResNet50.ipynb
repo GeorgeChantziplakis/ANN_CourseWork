{
 "cells": [
  {
   "cell_type": "code",
   "execution_count": 1,
   "metadata": {},
   "outputs": [],
   "source": [
    "from keras.applications import ResNet50\n",
    "from keras.applications.resnet50 import preprocess_input\n",
    "from tensorflow.python.keras.models import Sequential\n",
    "from tensorflow.python.keras.layers import Dense, Flatten, GlobalAveragePooling2D, BatchNormalization\n",
    "from tensorflow.python.keras.preprocessing.image import ImageDataGenerator\n",
    "from tensorflow.python.keras.preprocessing.image import load_img, img_to_array\n",
    "import pathlib\n",
    "import os"
   ]
  },
  {
   "cell_type": "code",
   "execution_count": 2,
   "metadata": {},
   "outputs": [
    {
     "name": "stdout",
     "output_type": "stream",
     "text": [
      "C:\\Users\\Jordan\\Desktop\\jupyter notebook\\ANN\\BrainTumor\\Training\n",
      "2870\n",
      "C:\\Users\\Jordan\\Desktop\\jupyter notebook\\ANN\\BrainTumor\\Testing\n",
      "394\n"
     ]
    }
   ],
   "source": [
    "data_train = r'C:\\Users\\Jordan\\Desktop\\jupyter notebook\\ANN\\BrainTumor\\Training'\n",
    "data_test = r'C:\\Users\\Jordan\\Desktop\\jupyter notebook\\ANN\\BrainTumor\\Testing'\n",
    "\n",
    "path_train = pathlib.Path(data_train)\n",
    "path_test = pathlib.Path(data_test)\n",
    "\n",
    "print(path_train)\n",
    "image_count_train = len(list(path_train.glob('*/*.jpg')))\n",
    "print(image_count_train)\n",
    "\n",
    "print(path_test)\n",
    "image_count_test = len(list(path_test.glob('*/*.jpg')))\n",
    "print(image_count_test)"
   ]
  },
  {
   "cell_type": "code",
   "execution_count": 3,
   "metadata": {},
   "outputs": [
    {
     "name": "stdout",
     "output_type": "stream",
     "text": [
      "Found 2870 images belonging to 4 classes.\n"
     ]
    }
   ],
   "source": [
    "data_generator = ImageDataGenerator(horizontal_flip=True,\n",
    "                                   width_shift_range = 0.4,\n",
    "                                   height_shift_range = 0.4,\n",
    "                                   zoom_range=0.3,\n",
    "                                   rotation_range=20,\n",
    "                                   )\n",
    "\n",
    "image_size = 128\n",
    "batch_size = 10\n",
    "train_generator = data_generator.flow_from_directory(data_train,\n",
    "        target_size=(image_size, image_size),\n",
    "        batch_size=batch_size,\n",
    "        class_mode='categorical')\n",
    "\n",
    "num_classes = len(train_generator.class_indices)"
   ]
  },
  {
   "cell_type": "code",
   "execution_count": 5,
   "metadata": {},
   "outputs": [],
   "source": [
    "model = Sequential()\n",
    "\n",
    "model.add(ResNet50(include_top=False, pooling='avg', weights=r'C:\\Users\\Jordan\\Desktop\\jupyter notebook\\ANN\\resnet50_weights_tf_dim_ordering_tf_kernels_notop.h5'))\n",
    "model.add(Flatten())\n",
    "model.add(BatchNormalization())\n",
    "model.add(Dense(2048, activation='relu'))\n",
    "model.add(BatchNormalization())\n",
    "model.add(Dense(1024, activation='relu'))\n",
    "model.add(BatchNormalization())\n",
    "model.add(Dense(num_classes, activation='softmax'))\n",
    "\n",
    "model.layers[0].trainable = False"
   ]
  },
  {
   "cell_type": "code",
   "execution_count": 6,
   "metadata": {},
   "outputs": [],
   "source": [
    "model.compile(optimizer='adam', loss='categorical_crossentropy', metrics=['accuracy'])"
   ]
  },
  {
   "cell_type": "code",
   "execution_count": null,
   "metadata": {},
   "outputs": [],
   "source": [
    "count = sum([len(files) for r, d, files in os.walk(data_train)])\n",
    "\n",
    "model.fit_generator(\n",
    "        train_generator,\n",
    "        steps_per_epoch=57,\n",
    "        epochs=10)"
   ]
  },
  {
   "cell_type": "code",
   "execution_count": null,
   "metadata": {},
   "outputs": [],
   "source": [
    "#steps_per_epoch=int(count/batch_size) + 1"
   ]
  }
 ],
 "metadata": {
  "kernelspec": {
   "display_name": "Python 3",
   "language": "python",
   "name": "python3"
  },
  "language_info": {
   "codemirror_mode": {
    "name": "ipython",
    "version": 3
   },
   "file_extension": ".py",
   "mimetype": "text/x-python",
   "name": "python",
   "nbconvert_exporter": "python",
   "pygments_lexer": "ipython3",
   "version": "3.8.3"
  }
 },
 "nbformat": 4,
 "nbformat_minor": 4
}
